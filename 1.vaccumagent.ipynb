{
 "cells": [
  {
   "cell_type": "markdown",
   "metadata": {},
   "source": [
    "\n",
    "## Vacuum Cleaner Agent Simulation\n",
    "### Create a program that simulates a vacuum cleaner agent that moves linearly in a space of two locations: A and B. Each location can be Clean or Dirty\n",
    "\n",
    "1. **Environment**:\n",
    "    - Represent the environment as a dictionary or list.\n",
    "    - It should contain the state of each location ('A' and 'B') as either 'clean' or 'dirty'.\n",
    "  \n",
    "2. **Agent**:\n",
    "    - Define an agent class, `VaccumCleaningAgent`\n",
    "    - The agent class should control the vacuum cleaner's actions based on:\n",
    "        - Its current location ('A' or 'B').\n",
    "        - The state of the environment (clean or dirty).\n",
    "\n",
    "3. **Agent Actions**:\n",
    "    - The agent should be able to perform below actions:\n",
    "        - **cleaning**: Clean the current location if it is dirty.\n",
    "        - **moving**: Move to the other location if the current location is clean.\n",
    "\n",
    "4. **Initial State**:\n",
    "    - Randomly generate the initial state of the environment.\n",
    "    - Each location ('A' and 'B') can be either clean or dirty.\n"
   ]
  },
  {
   "cell_type": "code",
   "execution_count": null,
   "metadata": {},
   "outputs": [],
   "source": [
    "import random"
   ]
  },
  {
   "cell_type": "markdown",
   "metadata": {},
   "source": [
    "Define an agent class, `VaccumCleaningAgent` with following methods to perform agent actions\n",
    "- `clean()`\n",
    "- `move_to_room()`\n",
    "- `run()`\n",
    "- `run_until_clean()`"
   ]
  },
  {
   "cell_type": "code",
   "execution_count": 23,
   "metadata": {},
   "outputs": [],
   "source": [
    "\n",
    "class VaccumCleaningAgent:\n",
    "    def __init__(self, location, environment):\n",
    "        self.location = location\n",
    "        self.environment = environment\n",
    "    \n",
    "    def initial_state(self):\n",
    "        print(f\"room-A : {self.environment['room-A']} \\nroom-B: {self.environment['room-B']}\")\n",
    "        \n",
    "    def run(self):\n",
    "        if self.environment[self.location] == 'dirty':\n",
    "            self.clean()\n",
    "        elif self.location == 'room-A':\n",
    "            self.move_to_room('room-B')\n",
    "        else:\n",
    "            self.move_to_room('room-A')\n",
    "\n",
    "    def clean(self):\n",
    "        print(f\"Cleaning {self.location}\")\n",
    "        self.environment[self.location] = 'clean'\n",
    "\n",
    "    def move_to_room(self, new_location):\n",
    "        if self.location == 'room-A':\n",
    "            print(f\"room A cleaned, moving right\")\n",
    "        if self.location == 'room-B':\n",
    "            print(f\"room B cleaned, moving left\")\n",
    "        print(f\"Moving from {self.location} to {new_location}\")\n",
    "        self.location = new_location\n",
    "\n",
    "    def run_until_clean(self):\n",
    "        while any(state == 'dirty' for state in self.environment.values()):\n",
    "            self.run()\n",
    "        print(\"Both rooms are clean.\")\n"
   ]
  },
  {
   "cell_type": "markdown",
   "metadata": {},
   "source": [
    "driver code to initiate the environment and simulate the process.\n",
    "- Randomly generate the initial state of the environment.\n",
    "- Each location ('A' and 'B') can be either clean or dirty."
   ]
  },
  {
   "cell_type": "code",
   "execution_count": 26,
   "metadata": {},
   "outputs": [
    {
     "name": "stdout",
     "output_type": "stream",
     "text": [
      "room-A : dirty \n",
      "room-B: dirty\n",
      "Cleaning room-A\n",
      "room A cleaned, moving right\n",
      "Moving from room-A to room-B\n",
      "Cleaning room-B\n",
      "Both rooms are clean.\n"
     ]
    }
   ],
   "source": [
    "\n",
    "if __name__ == '__main__' :\n",
    "    environment = {'room-A': random.choice(['clean', 'dirty']),\n",
    "                   'room-B': random.choice(['clean', 'dirty'])}\n",
    "    \n",
    "    starting_location = random.choice(['room-A', 'room-B'])\n",
    "    agent = VaccumCleaningAgent(starting_location, environment)\n",
    "    agent.initial_state()\n",
    "    agent.run_until_clean()\n"
   ]
  }
 ],
 "metadata": {
  "kernelspec": {
   "display_name": "Python 3",
   "language": "python",
   "name": "python3"
  },
  "language_info": {
   "codemirror_mode": {
    "name": "ipython",
    "version": 3
   },
   "file_extension": ".py",
   "mimetype": "text/x-python",
   "name": "python",
   "nbconvert_exporter": "python",
   "pygments_lexer": "ipython3",
   "version": "3.11.5"
  }
 },
 "nbformat": 4,
 "nbformat_minor": 2
}
