{
 "cells": [
  {
   "cell_type": "markdown",
   "metadata": {},
   "source": [
    "## Implement depth-first search to find an item in a simple tree structure.\n",
    "\n",
    "**Depth First Search (DFS):** It is a search algorithm where the search tree will be traversed from the\n",
    "root node. It will be traversing, searching for a key at the leaf of a particular branch. If the key is not found the searching retraces its steps back to the point from where the other branch was left unexplored and the same procedure is repeated for that other branch.\n",
    "\n",
    "Consider the below graph where the search is to be performed. The goal is to find the path from root node 'F' to goal node 'E'."
   ]
  },
  {
   "attachments": {
    "image.png": {
     "image/png": "[encoded data removed]"
    }
   },
   "cell_type": "markdown",
   "metadata": {},
   "source": [
    "![image.png](attachment:image.png)"
   ]
  },
  {
   "cell_type": "code",
   "execution_count": 100,
   "metadata": {},
   "outputs": [],
   "source": [
    "graph = {\n",
    "    'F' : ['B', 'G'],\n",
    "    'B' : ['A', 'D'],\n",
    "    'G' : ['I'],\n",
    "    'A' : [],\n",
    "    'D' : ['C', 'E'],\n",
    "    'I' : ['H'],\n",
    "    'C' : [],\n",
    "    'E' : [],\n",
    "    'H' : []\n",
    "}\n",
    "start_node = 'F'\n",
    "goal_node = 'E'"
   ]
  },
  {
   "cell_type": "markdown",
   "metadata": {},
   "source": [
    "- Start with a stack containing a tuple of the start node and its path, and a set for tracking visited nodes.\n",
    "- Pop a node and its path from the stack.\n",
    "- If the node is the goal, return the path.\n",
    "- If the node hasn't been visited, mark it as visited.\n",
    "- Add unvisited neighbors to the stack with their respective updated paths.\n",
    "- Continue until a path to the goal is found or the stack is empty.\n",
    "- If the stack is empty without finding the goal, return None."
   ]
  },
  {
   "cell_type": "code",
   "execution_count": 101,
   "metadata": {},
   "outputs": [],
   "source": [
    "def dfs(graph, start, goal):\n",
    "\n",
    "    stack = [start]\n",
    "    visited = set()\n",
    "    \n",
    "    parent = {}\n",
    "    parent[start] = None\n",
    "    \n",
    "    # Loop until the stack is empty\n",
    "    while stack:\n",
    "        # Pop the last added node from the stack\n",
    "        node = stack.pop()\n",
    "        \n",
    "        if node == goal:\n",
    "            path = []\n",
    "            while node:\n",
    "                path.append(node)\n",
    "                node = parent[node]\n",
    "            path.reverse()\n",
    "            return path\n",
    "        \n",
    "        if node not in visited:\n",
    "            visited.add(node)\n",
    "            # explore neighbors\n",
    "            for neighbor in graph[node]:\n",
    "                if neighbor not in visited:\n",
    "                    stack.append(neighbor)\n",
    "                    # Set the parent for the path reconstruction\n",
    "                    parent[neighbor] = node\n",
    "    \n",
    "    return []  # if goal isnt found return empty"
   ]
  },
  {
   "cell_type": "code",
   "execution_count": 102,
   "metadata": {},
   "outputs": [
    {
     "name": "stdout",
     "output_type": "stream",
     "text": [
      "Path from F to E: ['F', 'B', 'D', 'E']\n"
     ]
    }
   ],
   "source": [
    "path = dfs(graph, start_node, goal_node)\n",
    "print(f\"Path from {start_node} to {goal_node}: {path}\")"
   ]
  }
 ],
 "metadata": {
  "kernelspec": {
   "display_name": "Python 3",
   "language": "python",
   "name": "python3"
  },
  "language_info": {
   "codemirror_mode": {
    "name": "ipython",
    "version": 3
   },
   "file_extension": ".py",
   "mimetype": "text/x-python",
   "name": "python",
   "nbconvert_exporter": "python",
   "pygments_lexer": "ipython3",
   "version": "3.11.5"
  }
 },
 "nbformat": 4,
 "nbformat_minor": 2
}
