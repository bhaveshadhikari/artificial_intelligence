{
 "cells": [
  {
   "cell_type": "markdown",
   "metadata": {},
   "source": [
    "##  Implementing Uniform Cost Search (UCS).\n",
    "Uniform Cost Search (UCS) is a graph search algorithm used to find the shortest path in a weighted graph. Unlike Breadth-First Search (BFS), which explores all neighboring nodes equally, UCS selects the node with the lowest total cost from the start node. This makes UCS optimal for finding the shortest path.\n",
    "\n",
    "### Algorithm\n",
    "\n",
    "1. Initialize an empty priority queue with (cost, node, path) tuples, where:\n",
    "   * `cost` is the total cost from the start node to the current node,\n",
    "   * `node` is the current node being explored,\n",
    "   * `path` is the path from the start node to the current node.\n",
    "\n",
    "2. Add the start node to the priority queue with a cost of 0.\n",
    "\n",
    "3. While the priority queue is not empty:\n",
    "    * Pop the node with the lowest total cost from the priority queue.\n",
    "    * If the current node is the goal node, return the path and its cost.\n",
    "    * Otherwise, mark the current node as visited and explore its neighbors.\n",
    "    * For each neighbor:\n",
    "        * If the neighbor has not been visited:\n",
    "            * Calculate the total cost to reach the neighbor node.\n",
    "            * Add the neighbor node to the priority queue with the new total cost and update the path.\n",
    "\n",
    "4. If no path is found, return None.\n"
   ]
  },
  {
   "cell_type": "code",
   "execution_count": 3,
   "metadata": {},
   "outputs": [],
   "source": [
    "import heapq\n",
    "\n",
    "def uniform_cost_search(graph, start, goal):\n",
    "    opened = [(0, start, [start])]  # Priority queue with (cost, node, path)\n",
    "    closed = set()\n",
    "\n",
    "    while opened:\n",
    "        cost, current, path = heapq.heappop(opened)\n",
    "        if current == goal:\n",
    "            return path, cost  # Return both path and its cost\n",
    "\n",
    "        if current not in closed:\n",
    "            closed.add(current)\n",
    "            for child, child_cost in graph[current].items():\n",
    "                if child not in closed:\n",
    "                    heapq.heappush(opened, (cost + child_cost, child, path + \n",
    "                                            [child]))\n",
    "\n",
    "    return None, float('inf') #No path found, return None for path and infinite cost\n"
   ]
  },
  {
   "cell_type": "markdown",
   "metadata": {},
   "source": [
    "Now, let's define a graph and use the uniform_cost_search function to find the optimal path from node 'A' to node 'E'."
   ]
  },
  {
   "attachments": {
    "image.png": {
     "image/png": "[encoded data removed]"
    }
   },
   "cell_type": "markdown",
   "metadata": {},
   "source": [
    "![image.png](attachment:image.png)"
   ]
  },
  {
   "cell_type": "code",
   "execution_count": 4,
   "metadata": {},
   "outputs": [
    {
     "name": "stdout",
     "output_type": "stream",
     "text": [
      "Optimal path: ['A', 'C', 'D', 'E']\n",
      "Path cost: 12\n"
     ]
    }
   ],
   "source": [
    "graph = {\n",
    "    'A': {'B': 5, 'C': 2},\n",
    "    'B': {'D': 2},\n",
    "    'C': {'D': 4},\n",
    "    'D': {'E': 6}\n",
    "}\n",
    "\n",
    "# Define the start and goal nodes\n",
    "start_node = 'A'\n",
    "goal_node = 'E'\n",
    "\n",
    "# Perform uniform cost search\n",
    "result_path, path_cost = uniform_cost_search(graph, start_node, goal_node)\n",
    "\n",
    "# Output the result\n",
    "if result_path:\n",
    "    print(\"Optimal path:\", result_path)\n",
    "    print(\"Path cost:\", path_cost)\n",
    "else:\n",
    "    print(\"No path found.\")"
   ]
  }
 ],
 "metadata": {
  "kernelspec": {
   "display_name": "base",
   "language": "python",
   "name": "python3"
  },
  "language_info": {
   "codemirror_mode": {
    "name": "ipython",
    "version": 3
   },
   "file_extension": ".py",
   "mimetype": "text/x-python",
   "name": "python",
   "nbconvert_exporter": "python",
   "pygments_lexer": "ipython3",
   "version": "3.11.5"
  }
 },
 "nbformat": 4,
 "nbformat_minor": 2
}
