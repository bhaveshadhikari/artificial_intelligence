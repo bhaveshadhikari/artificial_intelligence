{
 "cells": [
  {
   "cell_type": "markdown",
   "metadata": {},
   "source": [
    "## Create a simple reflex agent that navigates a 2x2 grid and cleans dirt in each spot."
   ]
  },
  {
   "cell_type": "markdown",
   "metadata": {},
   "source": [
    "A simple reflex agent can be created for a 2x2 grid environment where the agent needs to navigate the grid and clean any dirt in each spot. This simple agent can only percept the current environment and can act accordingly. It can neither know the past experiences nor predict the future moves."
   ]
  },
  {
   "cell_type": "code",
   "execution_count": null,
   "metadata": {},
   "outputs": [],
   "source": [
    "import random"
   ]
  },
  {
   "cell_type": "markdown",
   "metadata": {},
   "source": [
    "#### Define the Environment\n",
    "\n",
    "First, create a class `Environment` for the 2x2 grid. The environment will include a representation of the grid, with each spot being either clean or dirty. We will also specify the agent's initial position. The required methods are introduced for environment."
   ]
  },
  {
   "cell_type": "code",
   "execution_count": 24,
   "metadata": {},
   "outputs": [],
   "source": [
    "\n",
    "class Environment:\n",
    "    def __init__(self):\n",
    "        self.grid = [\n",
    "            [random.choice([True, False]), random.choice([True, False])],\n",
    "            [random.choice([True, False]), random.choice([True, False])]\n",
    "        ]  # True means the spot is dirty\n",
    "        self.agent_position = (0, 0)\n",
    "    \n",
    "    def is_dirty(self, position):\n",
    "        x, y = position\n",
    "        return self.grid[x][y]\n",
    "    \n",
    "    def clean_spot(self, position):\n",
    "        # Clean the current spot\n",
    "        x, y = position\n",
    "        self.grid[x][y] = False\n",
    "    \n",
    "    def move_agent(self, new_position):\n",
    "        # Update the agent's position\n",
    "        self.agent_position = new_position\n",
    "    \n",
    "    def is_grid_clean(self):\n",
    "        # Check if the entire grid is clean\n",
    "        for row in self.grid:\n",
    "            for spot in row:\n",
    "                if spot:  # If any spot is dirty\n",
    "                    return False\n",
    "        return True\n",
    "    "
   ]
  },
  {
   "cell_type": "markdown",
   "metadata": {},
   "source": [
    "#### Define the Reflex Agent\n",
    "create a reflex agent that uses the environment's current state (percept) to decide its next action. The agent will check whether its current location is dirty and, if so, clean the spot. Then, the agent will move to the next location in the grid."
   ]
  },
  {
   "cell_type": "code",
   "execution_count": 25,
   "metadata": {},
   "outputs": [],
   "source": [
    "class ReflexAgent:\n",
    "    def __init__(self, environment):\n",
    "        self.environment = environment\n",
    "    \n",
    "    def act(self):\n",
    "        \n",
    "        x, y = self.environment.agent_position\n",
    "        \n",
    "        # Check if the current spot is dirty and clean it\n",
    "        if self.environment.is_dirty((x, y)):\n",
    "            print(f\"Cleaning spot at ({x}, {y})\")\n",
    "            self.environment.clean_spot((x, y))\n",
    "        \n",
    "        # Move to the next spot in the grid\n",
    "        # This will iterate through the grid row by row\n",
    "        if y < 1:  # Move right\n",
    "            new_position = (x, y + 1)\n",
    "        elif x < 1:  # Move down\n",
    "            new_position = (x + 1, 0)\n",
    "        else:\n",
    "            print(\"Finished cleaning the grid.\")\n",
    "            return  # Stop the agent when it finishes cleaning the grid\n",
    "        \n",
    "        # Update the agent's position\n",
    "        self.environment.move_agent(new_position)\n",
    "        print(f\"Moving to ({new_position[0]}, {new_position[1]})\")\n"
   ]
  },
  {
   "cell_type": "markdown",
   "metadata": {},
   "source": [
    "driver code to instantiate the environment and the reflex agent, and then run the agent to clean the grid untill evry spot on the grid is left clean."
   ]
  },
  {
   "cell_type": "code",
   "execution_count": 27,
   "metadata": {},
   "outputs": [
    {
     "name": "stdout",
     "output_type": "stream",
     "text": [
      "[[True, True], [True, True]]\n",
      "Cleaning spot at (0, 0)\n",
      "Moving to (0, 1)\n",
      "Cleaning spot at (0, 1)\n",
      "Moving to (1, 0)\n",
      "Cleaning spot at (1, 0)\n",
      "Moving to (1, 1)\n",
      "Cleaning spot at (1, 1)\n",
      "Finished cleaning the grid.\n"
     ]
    }
   ],
   "source": [
    "if __name__ == '__main__':\n",
    "\n",
    "    environment = Environment()\n",
    "    agent = ReflexAgent(environment)\n",
    "    print(environment.grid)\n",
    "    while not environment.is_grid_clean():\n",
    "        agent.act()\n"
   ]
  }
 ],
 "metadata": {
  "kernelspec": {
   "display_name": "Python 3",
   "language": "python",
   "name": "python3"
  },
  "language_info": {
   "codemirror_mode": {
    "name": "ipython",
    "version": 3
   },
   "file_extension": ".py",
   "mimetype": "text/x-python",
   "name": "python",
   "nbconvert_exporter": "python",
   "pygments_lexer": "ipython3",
   "version": "3.11.5"
  }
 },
 "nbformat": 4,
 "nbformat_minor": 2
}
